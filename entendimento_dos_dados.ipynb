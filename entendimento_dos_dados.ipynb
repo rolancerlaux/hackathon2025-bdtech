{
 "cells": [
  {
   "cell_type": "code",
   "execution_count": 1,
   "id": "59063890",
   "metadata": {},
   "outputs": [],
   "source": [
    "import pandas as pd"
   ]
  },
  {
   "cell_type": "code",
   "execution_count": 3,
   "id": "1b6d32ae",
   "metadata": {},
   "outputs": [
    {
     "name": "stdout",
     "output_type": "stream",
     "text": [
      "Arquivo 1:\n",
      "Shape: (14419, 4)\n",
      "Colunas: ['pdv', 'premise', 'categoria_pdv', 'zipcode']\n",
      "\n",
      "Arquivo 2:\n",
      "Shape: (6560698, 11)\n",
      "Colunas: ['internal_store_id', 'internal_product_id', 'distributor_id', 'transaction_date', 'reference_date', 'quantity', 'gross_value', 'net_value', 'gross_profit', 'discount', 'taxes']\n",
      "\n",
      "Arquivo 3:\n",
      "Shape: (7092, 8)\n",
      "Colunas: ['produto', 'categoria', 'descricao', 'tipos', 'label', 'subcategoria', 'marca', 'fabricante']\n"
     ]
    }
   ],
   "source": [
    "# Carrega cada arquivo separadamente para análise\n",
    "file1 = pd.read_parquet(\"./data/part-00000-tid-2779033056155408584-f6316110-4c9a-4061-ae48-69b77c7c8c36-4-1-c000.snappy.parquet\")\n",
    "file2 = pd.read_parquet(\"./data/part-00000-tid-5196563791502273604-c90d3a24-52f2-4955-b4ec-fb143aae74d8-4-1-c000.snappy.parquet\")  \n",
    "file3 = pd.read_parquet(\"./data/part-00000-tid-7173294866425216458-eae53fbf-d19e-4130-ba74-78f96b9675f1-4-1-c000.snappy.parquet\")\n",
    "\n",
    "# Analise cada um\n",
    "print(\"Arquivo 1:\")\n",
    "print(f\"Shape: {file1.shape}\")\n",
    "print(f\"Colunas: {list(file1.columns)}\")\n",
    "print()\n",
    "\n",
    "print(\"Arquivo 2:\")\n",
    "print(f\"Shape: {file2.shape}\") \n",
    "print(f\"Colunas: {list(file2.columns)}\")\n",
    "print()\n",
    "\n",
    "print(\"Arquivo 3:\")\n",
    "print(f\"Shape: {file3.shape}\")\n",
    "print(f\"Colunas: {list(file3.columns)}\")"
   ]
  },
  {
   "cell_type": "code",
   "execution_count": 4,
   "id": "5fcd793b",
   "metadata": {},
   "outputs": [
    {
     "name": "stdout",
     "output_type": "stream",
     "text": [
      "Total de transações: 6,567,790\n"
     ]
    }
   ],
   "source": [
    "# 1. Cadastro de PDVs\n",
    "pdvs = file1\n",
    "\n",
    "# 2. Concatena as transações (são partições do mesmo dataset)\n",
    "transacoes = pd.concat([file2, file3], ignore_index=True)\n",
    "print(f\"Total de transações: {transacoes.shape[0]:,}\")  # ~13.1M registros\n",
    "\n",
    "# 3. Join das transações com cadastro de PDVs\n",
    "df_completo = transacoes.merge(\n",
    "    pdvs, \n",
    "    left_on='internal_store_id', \n",
    "    right_on='pdv', \n",
    "    how='left'\n",
    ")"
   ]
  },
  {
   "cell_type": "code",
   "execution_count": 5,
   "id": "5fb2f66a",
   "metadata": {},
   "outputs": [
    {
     "name": "stdout",
     "output_type": "stream",
     "text": [
      "PDVs nas transações: 15,087\n",
      "PDVs no cadastro: 14,419\n",
      "PDVs sem cadastro: 668\n"
     ]
    }
   ],
   "source": [
    "# Verifique se todos os PDVs das transações existem no cadastro\n",
    "pdvs_transacoes = set(transacoes['internal_store_id'].unique())\n",
    "pdvs_cadastro = set(pdvs['pdv'].unique())\n",
    "\n",
    "print(f\"PDVs nas transações: {len(pdvs_transacoes):,}\")\n",
    "print(f\"PDVs no cadastro: {len(pdvs_cadastro):,}\")\n",
    "print(f\"PDVs sem cadastro: {len(pdvs_transacoes - pdvs_cadastro):,}\")"
   ]
  },
  {
   "cell_type": "code",
   "execution_count": 6,
   "id": "3d06cd37",
   "metadata": {},
   "outputs": [
    {
     "name": "stdout",
     "output_type": "stream",
     "text": [
      "PDVs órfãos: 668\n",
      "\n",
      "📈 ANÁLISE DE IMPACTO:\n",
      "Vendas em PDVs órfãos: 215,674.66422250867\n",
      "Vendas totais: 53,311,532.07052398\n",
      "% do volume em PDVs órfãos: 0.40%\n",
      "% de transações em PDVs órfãos: 0.80%\n"
     ]
    }
   ],
   "source": [
    "# 1. Identifica quais PDVs não têm cadastro\n",
    "pdvs_orfaos = transacoes[\n",
    "    ~transacoes['internal_store_id'].isin(pdvs['pdv'])\n",
    "]['internal_store_id'].unique()\n",
    "\n",
    "print(f\"PDVs órfãos: {len(pdvs_orfaos)}\")\n",
    "\n",
    "# 2. Calcula o volume de vendas dos PDVs órfãos\n",
    "vendas_orfaos = transacoes[\n",
    "    transacoes['internal_store_id'].isin(pdvs_orfaos)\n",
    "]['quantity'].sum()\n",
    "\n",
    "# 3. Volume total de vendas\n",
    "vendas_totais = transacoes['quantity'].sum()\n",
    "\n",
    "# 4. Percentual\n",
    "percentual = 100 * vendas_orfaos / vendas_totais\n",
    "\n",
    "print(f\"\\n📈 ANÁLISE DE IMPACTO:\")\n",
    "print(f\"Vendas em PDVs órfãos: {vendas_orfaos:,}\")\n",
    "print(f\"Vendas totais: {vendas_totais:,}\") \n",
    "print(f\"% do volume em PDVs órfãos: {percentual:.2f}%\")\n",
    "\n",
    "# 5. Análise adicional - número de transações\n",
    "transacoes_orfaos = len(transacoes[\n",
    "    transacoes['internal_store_id'].isin(pdvs_orfaos)\n",
    "])\n",
    "transacoes_totais = len(transacoes)\n",
    "\n",
    "print(f\"% de transações em PDVs órfãos: {100*transacoes_orfaos/transacoes_totais:.2f}%\")"
   ]
  },
  {
   "cell_type": "code",
   "execution_count": 7,
   "id": "eb1575b6",
   "metadata": {},
   "outputs": [
    {
     "data": {
      "text/html": [
       "<div>\n",
       "<style scoped>\n",
       "    .dataframe tbody tr th:only-of-type {\n",
       "        vertical-align: middle;\n",
       "    }\n",
       "\n",
       "    .dataframe tbody tr th {\n",
       "        vertical-align: top;\n",
       "    }\n",
       "\n",
       "    .dataframe thead th {\n",
       "        text-align: right;\n",
       "    }\n",
       "</style>\n",
       "<table border=\"1\" class=\"dataframe\">\n",
       "  <thead>\n",
       "    <tr style=\"text-align: right;\">\n",
       "      <th></th>\n",
       "      <th>internal_store_id</th>\n",
       "      <th>internal_product_id</th>\n",
       "      <th>distributor_id</th>\n",
       "      <th>transaction_date</th>\n",
       "      <th>reference_date</th>\n",
       "      <th>quantity</th>\n",
       "      <th>gross_value</th>\n",
       "      <th>net_value</th>\n",
       "      <th>gross_profit</th>\n",
       "      <th>discount</th>\n",
       "      <th>...</th>\n",
       "      <th>descricao</th>\n",
       "      <th>tipos</th>\n",
       "      <th>label</th>\n",
       "      <th>subcategoria</th>\n",
       "      <th>marca</th>\n",
       "      <th>fabricante</th>\n",
       "      <th>pdv</th>\n",
       "      <th>premise</th>\n",
       "      <th>categoria_pdv</th>\n",
       "      <th>zipcode</th>\n",
       "    </tr>\n",
       "  </thead>\n",
       "  <tbody>\n",
       "    <tr>\n",
       "      <th>0</th>\n",
       "      <td>7384367747233276219</td>\n",
       "      <td>328903483604537190</td>\n",
       "      <td>9</td>\n",
       "      <td>2022-07-13</td>\n",
       "      <td>2022-07-01</td>\n",
       "      <td>1.0</td>\n",
       "      <td>38.125000</td>\n",
       "      <td>37.890625</td>\n",
       "      <td>10.042625</td>\n",
       "      <td>3.950000</td>\n",
       "      <td>...</td>\n",
       "      <td>NaN</td>\n",
       "      <td>NaN</td>\n",
       "      <td>NaN</td>\n",
       "      <td>NaN</td>\n",
       "      <td>NaN</td>\n",
       "      <td>NaN</td>\n",
       "      <td>7384367747233276219</td>\n",
       "      <td>Off Premise</td>\n",
       "      <td>Package/Liquor</td>\n",
       "      <td>80905</td>\n",
       "    </tr>\n",
       "    <tr>\n",
       "      <th>1</th>\n",
       "      <td>3536908514005606262</td>\n",
       "      <td>5418855670645487653</td>\n",
       "      <td>5</td>\n",
       "      <td>2022-03-21</td>\n",
       "      <td>2022-03-01</td>\n",
       "      <td>6.0</td>\n",
       "      <td>107.250000</td>\n",
       "      <td>106.440002</td>\n",
       "      <td>24.732002</td>\n",
       "      <td>17.100000</td>\n",
       "      <td>...</td>\n",
       "      <td>NaN</td>\n",
       "      <td>NaN</td>\n",
       "      <td>NaN</td>\n",
       "      <td>NaN</td>\n",
       "      <td>NaN</td>\n",
       "      <td>NaN</td>\n",
       "      <td>3536908514005606262</td>\n",
       "      <td>Off Premise</td>\n",
       "      <td>Package/Liquor</td>\n",
       "      <td>80239</td>\n",
       "    </tr>\n",
       "    <tr>\n",
       "      <th>2</th>\n",
       "      <td>3138231730993449825</td>\n",
       "      <td>1087005562675741887</td>\n",
       "      <td>6</td>\n",
       "      <td>2022-09-06</td>\n",
       "      <td>2022-09-01</td>\n",
       "      <td>3.0</td>\n",
       "      <td>56.625000</td>\n",
       "      <td>56.220001</td>\n",
       "      <td>14.124002</td>\n",
       "      <td>5.250000</td>\n",
       "      <td>...</td>\n",
       "      <td>NaN</td>\n",
       "      <td>NaN</td>\n",
       "      <td>NaN</td>\n",
       "      <td>NaN</td>\n",
       "      <td>NaN</td>\n",
       "      <td>NaN</td>\n",
       "      <td>3138231730993449825</td>\n",
       "      <td>Off Premise</td>\n",
       "      <td>Package/Liquor</td>\n",
       "      <td>80634</td>\n",
       "    </tr>\n",
       "    <tr>\n",
       "      <th>3</th>\n",
       "      <td>3681167389484217654</td>\n",
       "      <td>1401422983880045188</td>\n",
       "      <td>5</td>\n",
       "      <td>2022-09-11</td>\n",
       "      <td>2022-09-01</td>\n",
       "      <td>129.0</td>\n",
       "      <td>1037.160023</td>\n",
       "      <td>1037.160023</td>\n",
       "      <td>156.348026</td>\n",
       "      <td>479.880006</td>\n",
       "      <td>...</td>\n",
       "      <td>NaN</td>\n",
       "      <td>NaN</td>\n",
       "      <td>NaN</td>\n",
       "      <td>NaN</td>\n",
       "      <td>NaN</td>\n",
       "      <td>NaN</td>\n",
       "      <td>3681167389484217654</td>\n",
       "      <td>Off Premise</td>\n",
       "      <td>Package/Liquor</td>\n",
       "      <td>80226</td>\n",
       "    </tr>\n",
       "    <tr>\n",
       "      <th>4</th>\n",
       "      <td>7762413312337359369</td>\n",
       "      <td>6614994347738381720</td>\n",
       "      <td>4</td>\n",
       "      <td>2022-02-18</td>\n",
       "      <td>2022-02-01</td>\n",
       "      <td>1.0</td>\n",
       "      <td>26.230000</td>\n",
       "      <td>23.950241</td>\n",
       "      <td>6.550241</td>\n",
       "      <td>0.000000</td>\n",
       "      <td>...</td>\n",
       "      <td>NaN</td>\n",
       "      <td>NaN</td>\n",
       "      <td>NaN</td>\n",
       "      <td>NaN</td>\n",
       "      <td>NaN</td>\n",
       "      <td>NaN</td>\n",
       "      <td>7762413312337359369</td>\n",
       "      <td>Off Premise</td>\n",
       "      <td>Convenience</td>\n",
       "      <td>30096</td>\n",
       "    </tr>\n",
       "  </tbody>\n",
       "</table>\n",
       "<p>5 rows × 23 columns</p>\n",
       "</div>"
      ],
      "text/plain": [
       "     internal_store_id  internal_product_id distributor_id transaction_date  \\\n",
       "0  7384367747233276219   328903483604537190              9       2022-07-13   \n",
       "1  3536908514005606262  5418855670645487653              5       2022-03-21   \n",
       "2  3138231730993449825  1087005562675741887              6       2022-09-06   \n",
       "3  3681167389484217654  1401422983880045188              5       2022-09-11   \n",
       "4  7762413312337359369  6614994347738381720              4       2022-02-18   \n",
       "\n",
       "  reference_date  quantity  gross_value    net_value  gross_profit  \\\n",
       "0     2022-07-01       1.0    38.125000    37.890625     10.042625   \n",
       "1     2022-03-01       6.0   107.250000   106.440002     24.732002   \n",
       "2     2022-09-01       3.0    56.625000    56.220001     14.124002   \n",
       "3     2022-09-01     129.0  1037.160023  1037.160023    156.348026   \n",
       "4     2022-02-01       1.0    26.230000    23.950241      6.550241   \n",
       "\n",
       "     discount  ...  descricao tipos label subcategoria marca fabricante  \\\n",
       "0    3.950000  ...        NaN   NaN   NaN          NaN   NaN        NaN   \n",
       "1   17.100000  ...        NaN   NaN   NaN          NaN   NaN        NaN   \n",
       "2    5.250000  ...        NaN   NaN   NaN          NaN   NaN        NaN   \n",
       "3  479.880006  ...        NaN   NaN   NaN          NaN   NaN        NaN   \n",
       "4    0.000000  ...        NaN   NaN   NaN          NaN   NaN        NaN   \n",
       "\n",
       "                   pdv      premise   categoria_pdv zipcode  \n",
       "0  7384367747233276219  Off Premise  Package/Liquor   80905  \n",
       "1  3536908514005606262  Off Premise  Package/Liquor   80239  \n",
       "2  3138231730993449825  Off Premise  Package/Liquor   80634  \n",
       "3  3681167389484217654  Off Premise  Package/Liquor   80226  \n",
       "4  7762413312337359369  Off Premise     Convenience   30096  \n",
       "\n",
       "[5 rows x 23 columns]"
      ]
     },
     "execution_count": 7,
     "metadata": {},
     "output_type": "execute_result"
    }
   ],
   "source": [
    "df_completo = transacoes.merge(\n",
    "    pdvs, \n",
    "    left_on='internal_store_id', \n",
    "    right_on='pdv', \n",
    "    how='inner'  # só mantém quem tem match\n",
    ")\n",
    "df_completo.head()"
   ]
  },
  {
   "cell_type": "code",
   "execution_count": 8,
   "id": "1a3131b7",
   "metadata": {},
   "outputs": [
    {
     "name": "stdout",
     "output_type": "stream",
     "text": [
      "📊 DATASET CONSOLIDADO:\n",
      "Shape: (6515116, 23)\n",
      "Período: 2022-01-01 até 2022-12-31\n",
      "PDVs únicos: 14,419\n",
      "Produtos únicos: 7,070\n",
      "\n",
      "Missing values:\n",
      "internal_store_id            0\n",
      "internal_product_id          0\n",
      "distributor_id               0\n",
      "transaction_date             0\n",
      "reference_date               0\n",
      "quantity                     0\n",
      "gross_value                  0\n",
      "net_value                    0\n",
      "gross_profit                 0\n",
      "discount                     0\n",
      "taxes                        0\n",
      "produto                6515116\n",
      "categoria              6515116\n",
      "descricao              6515116\n",
      "tipos                  6515116\n",
      "label                  6515116\n",
      "subcategoria           6515116\n",
      "marca                  6515116\n",
      "fabricante             6515116\n",
      "pdv                          0\n",
      "premise                      0\n",
      "categoria_pdv                0\n",
      "zipcode                      0\n",
      "dtype: int64\n"
     ]
    }
   ],
   "source": [
    "# Verifica o resultado final\n",
    "print(f\"📊 DATASET CONSOLIDADO:\")\n",
    "print(f\"Shape: {df_completo.shape}\")\n",
    "print(f\"Período: {df_completo['transaction_date'].min()} até {df_completo['transaction_date'].max()}\")\n",
    "print(f\"PDVs únicos: {df_completo['internal_store_id'].nunique():,}\")\n",
    "print(f\"Produtos únicos: {df_completo['internal_product_id'].nunique():,}\")\n",
    "print(f\"\\nMissing values:\")\n",
    "print(df_completo.isnull().sum())"
   ]
  },
  {
   "cell_type": "code",
   "execution_count": 9,
   "id": "0547ac44",
   "metadata": {},
   "outputs": [
    {
     "name": "stdout",
     "output_type": "stream",
     "text": [
      "✅ Dataset salvo como 'dataset_consolidado.parquet'\n"
     ]
    }
   ],
   "source": [
    "# Salva em formato otimizado\n",
    "df_completo.to_parquet('./data/dataset_consolidado.parquet', index=False)\n",
    "print(\"✅ Dataset salvo como 'dataset_consolidado.parquet'\")"
   ]
  },
  {
   "cell_type": "code",
   "execution_count": 10,
   "id": "40f275dc",
   "metadata": {},
   "outputs": [
    {
     "name": "stdout",
     "output_type": "stream",
     "text": [
      "✅ Sample 10% salvo como 'sample_dataset.parquet'\n"
     ]
    }
   ],
   "source": [
    "# Sample de 10% para testes rápidos\n",
    "sample_df = df_completo.sample(frac=0.1, random_state=42)\n",
    "sample_df.to_parquet('./data/sample_dataset.parquet', index=False)\n",
    "print(\"✅ Sample 10% salvo como 'sample_dataset.parquet'\")"
   ]
  },
  {
   "cell_type": "code",
   "execution_count": null,
   "id": "2971e939",
   "metadata": {},
   "outputs": [],
   "source": []
  }
 ],
 "metadata": {
  "kernelspec": {
   "display_name": ".venv",
   "language": "python",
   "name": "python3"
  },
  "language_info": {
   "codemirror_mode": {
    "name": "ipython",
    "version": 3
   },
   "file_extension": ".py",
   "mimetype": "text/x-python",
   "name": "python",
   "nbconvert_exporter": "python",
   "pygments_lexer": "ipython3",
   "version": "3.12.3"
  }
 },
 "nbformat": 4,
 "nbformat_minor": 5
}
